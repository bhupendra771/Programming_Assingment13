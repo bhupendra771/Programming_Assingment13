{
 "cells": [
  {
   "cell_type": "code",
   "execution_count": 1,
   "id": "dfdac187",
   "metadata": {},
   "outputs": [
    {
     "name": "stdout",
     "output_type": "stream",
     "text": [
      "1\n",
      "2\n"
     ]
    }
   ],
   "source": [
    "# Write a program that calculates and prints the value according to the given formula:\n",
    "\n",
    "# Q = Square root of [(2 * C * D)/H]\n",
    "\n",
    "# Following are the fixed values of C and H:\n",
    "\n",
    "# C is 50. H is 30.\n",
    "\n",
    "# D is the variable whose values should be input to your program in a comma-separated sequence.\n",
    "\n",
    "# Example\n",
    "\n",
    "# Let us assume the following comma separated input sequence is given to the program:\n",
    "\n",
    "# 100,150,180\n",
    "\n",
    "# The output of the program should be:\n",
    "\n",
    "# 18,22,24\n",
    "import math\n",
    "\n",
    "C =50;H = 30\n",
    "value = []\n",
    "item = [x for x in input().split(',')]\n",
    "for i in item:\n",
    "#     print(str(int(round(math.sqrt((2 * C * float(i))/H)))))\n",
    "    value.append(str(int(round(math.sqrt((2 * C * float(i))/H)))))\n",
    " \n",
    "# math.sqrt((2*50*100)/30)\n",
    "print(','.join(value))"
   ]
  },
  {
   "cell_type": "code",
   "execution_count": 2,
   "id": "52829d8b",
   "metadata": {},
   "outputs": [
    {
     "name": "stdout",
     "output_type": "stream",
     "text": [
      "Enter your coloum number \n",
      "\n"
     ]
    },
    {
     "ename": "ValueError",
     "evalue": "invalid literal for int() with base 10: ''",
     "output_type": "error",
     "traceback": [
      "\u001b[1;31m---------------------------------------------------------------------------\u001b[0m",
      "\u001b[1;31mValueError\u001b[0m                                Traceback (most recent call last)",
      "Input \u001b[1;32mIn [2]\u001b[0m, in \u001b[0;36m<cell line: 15>\u001b[1;34m()\u001b[0m\n\u001b[0;32m      1\u001b[0m \u001b[38;5;66;03m# Question 2:\u001b[39;00m\n\u001b[0;32m      2\u001b[0m \u001b[38;5;66;03m# Write a program which takes 2 digits, X,Y as input and generates a 2-dimensional array. The element value in the i-th row and j-th column of the array should be i*j.\u001b[39;00m\n\u001b[0;32m      3\u001b[0m \n\u001b[1;32m   (...)\u001b[0m\n\u001b[0;32m     13\u001b[0m \n\u001b[0;32m     14\u001b[0m \u001b[38;5;66;03m# [[0, 0, 0, 0, 0], [0, 1, 2, 3, 4], [0, 2, 4, 6, 8]] \u001b[39;00m\n\u001b[1;32m---> 15\u001b[0m column \u001b[38;5;241m=\u001b[39m \u001b[38;5;28;43mint\u001b[39;49m\u001b[43m(\u001b[49m\u001b[38;5;28;43minput\u001b[39;49m\u001b[43m(\u001b[49m\u001b[38;5;124;43m\"\u001b[39;49m\u001b[38;5;124;43mEnter your coloum number \u001b[39;49m\u001b[38;5;130;43;01m\\n\u001b[39;49;00m\u001b[38;5;124;43m\"\u001b[39;49m\u001b[43m)\u001b[49m\u001b[43m)\u001b[49m\n\u001b[0;32m     16\u001b[0m row \u001b[38;5;241m=\u001b[39m \u001b[38;5;28mint\u001b[39m(\u001b[38;5;28minput\u001b[39m(\u001b[38;5;124m\"\u001b[39m\u001b[38;5;124menter your row number \u001b[39m\u001b[38;5;130;01m\\n\u001b[39;00m\u001b[38;5;124m\"\u001b[39m))\n\u001b[0;32m     17\u001b[0m multilist \u001b[38;5;241m=\u001b[39m [[ \u001b[38;5;241m1\u001b[39m \u001b[38;5;28;01mfor\u001b[39;00m i \u001b[38;5;129;01min\u001b[39;00m \u001b[38;5;28mrange\u001b[39m(column)] \u001b[38;5;28;01mfor\u001b[39;00m j \u001b[38;5;129;01min\u001b[39;00m \u001b[38;5;28mrange\u001b[39m(row)]\n",
      "\u001b[1;31mValueError\u001b[0m: invalid literal for int() with base 10: ''"
     ]
    }
   ],
   "source": [
    "# Question 2:\n",
    "# Write a program which takes 2 digits, X,Y as input and generates a 2-dimensional array. The element value in the i-th row and j-th column of the array should be i*j.\n",
    "\n",
    "# Note: i=0,1.., X-1; j=0,1,¡¬Y-1.\n",
    "\n",
    "# Example\n",
    "\n",
    "# Suppose the following inputs are given to the program:\n",
    "\n",
    "# 3,5\n",
    "\n",
    "# Then, the output of the program should be:\n",
    "\n",
    "# [[0, 0, 0, 0, 0], [0, 1, 2, 3, 4], [0, 2, 4, 6, 8]] \n",
    "column = int(input(\"Enter your coloum number \\n\"))\n",
    "row = int(input(\"enter your row number \\n\"))\n",
    "multilist = [[ 1 for i in range(column)] for j in range(row)]\n",
    "\n",
    "for row in range(row):\n",
    "    for col in range(column):\n",
    "        multilist[row][col]= row*col\n",
    "print(multilist)"
   ]
  },
  {
   "cell_type": "code",
   "execution_count": null,
   "id": "74037ecb",
   "metadata": {},
   "outputs": [],
   "source": [
    "# Question 3:\n",
    "# Write a program that accepts a comma separated sequence of words as input and prints the words in a comma-separated sequence after sorting them alphabetically.\n",
    "\n",
    "# Suppose the following input is supplied to the program:\n",
    "\n",
    "# without,hello,bag,world\n",
    "\n",
    "# Then, the output should be:\n",
    "\n",
    "# bag,hello,without,world\n",
    "# lst = []\n",
    "item = [x for x in input().split(',')]\n",
    "\n",
    "for i in sorted(item):\n",
    "    print(i)\n",
    "    \n"
   ]
  },
  {
   "cell_type": "code",
   "execution_count": null,
   "id": "369c7083",
   "metadata": {},
   "outputs": [],
   "source": [
    "# Write a program that accepts a sequence of whitespace separated words as input and prints the words after removing all duplicate words and sorting them alphanumerically.\n",
    "\n",
    "# Suppose the following input is supplied to the program:\n",
    "\n",
    "# hello world and practice makes perfect and hello world again\n",
    "\n",
    "# Then, the output should be:\n",
    "\n",
    "# again and hello makes perfect practice world\n",
    "s = input()\n",
    "words = [word for word in s.split(\" \")]\n",
    "print(words)\n",
    "print(\" \".join(sorted(list(set(words)))))\n",
    "# type(\" \".join(sorted(list(set(words)))))\n",
    "# print(\" \".join(sorted(list(set(words)))))"
   ]
  },
  {
   "cell_type": "code",
   "execution_count": null,
   "id": "ce6ae1f8",
   "metadata": {},
   "outputs": [],
   "source": [
    "# Question 5:\n",
    "# Write a program that accepts a sentence and calculate the number of letters and digits.\n",
    "\n",
    "# Suppose the following input is supplied to the program:\n",
    "\n",
    "# hello world! 123\n",
    "\n",
    "# Then, the output should be:\n",
    "\n",
    "# LETTERS 10\n",
    "\n",
    "# DIGITS 3\n",
    "import re\n",
    "lett = dig = spe= 0\n",
    "sen = input(\"Enter your sentance to check\\n\")\n",
    "for se in sen:\n",
    "        \n",
    "    if se.isdigit():\n",
    "        dig +=1\n",
    "    elif se.isalpha():\n",
    "        lett +=1\n",
    "    elif se.isascii():\n",
    "        spe +=1\n",
    "        \n",
    "print(f\"number of digit is  - {dig} and character is -{lett} and {spe} \")\n",
    "    \n",
    "\n",
    "\n",
    "\n"
   ]
  },
  {
   "cell_type": "code",
   "execution_count": 8,
   "id": "019e574b",
   "metadata": {},
   "outputs": [
    {
     "name": "stdout",
     "output_type": "stream",
     "text": [
      "enter your password\n",
      "ABd1234@1\n",
      "this password accepted- ABd1234@1\n"
     ]
    }
   ],
   "source": [
    "# Question 6:\n",
    "# A website requires the users to input username and password to register. Write a program to check the validity of password input by users.\n",
    "\n",
    "# Following are the criteria for checking the password:\n",
    "\n",
    "# 1. At least 1 letter between [a-z]\n",
    "\n",
    "# 2. At least 1 number between [0-9]\n",
    "\n",
    "# 1. At least 1 letter between [A-Z]\n",
    "\n",
    "# 3. At least 1 character from [$#@]\n",
    "\n",
    "# 4. Minimum length of transaction password: 6\n",
    "\n",
    "# 5. Maximum length of transaction password: 12\n",
    "\n",
    "# Your program should accept a sequence of comma separated passwords and will check them according to the above criteria. Passwords that match the criteria are to be printed, each separated by a comma.\n",
    "\n",
    "# Example\n",
    "\n",
    "# If the following passwords are given as input to the program:\n",
    "\n",
    "# ABd1234@1,a F1#,2w3E*,2We3345\n",
    "\n",
    "# Then, the output of the program should be:\n",
    "\n",
    "# ABd1234@1\n",
    "\n",
    "import re\n",
    "\n",
    "pase = input(\"enter your password\\n\").split(',')\n",
    "for i in pase:\n",
    "    if len(i)>7 and len(i) < 13:       \n",
    "        \n",
    "        if re.search(\"[a-z]\",i) and re.search(\"[A-Z]\",i) and re.search(\"[0-9]\",i) and re.search(\"[@#$]\",i):\n",
    "            \n",
    "            print(\"this password accepted-\",i)\n",
    "        \n",
    "\n",
    "    \n",
    "        \n",
    "    else:\n",
    "        print(f\"password lenght- {i} should not be less than 6 or not grater than 12\")\n",
    "        \n"
   ]
  },
  {
   "cell_type": "code",
   "execution_count": null,
   "id": "9f1c3b3e",
   "metadata": {},
   "outputs": [],
   "source": []
  },
  {
   "cell_type": "code",
   "execution_count": null,
   "id": "9b17c9d9",
   "metadata": {},
   "outputs": [],
   "source": []
  }
 ],
 "metadata": {
  "kernelspec": {
   "display_name": "Python 3 (ipykernel)",
   "language": "python",
   "name": "python3"
  },
  "language_info": {
   "codemirror_mode": {
    "name": "ipython",
    "version": 3
   },
   "file_extension": ".py",
   "mimetype": "text/x-python",
   "name": "python",
   "nbconvert_exporter": "python",
   "pygments_lexer": "ipython3",
   "version": "3.10.4"
  }
 },
 "nbformat": 4,
 "nbformat_minor": 5
}
